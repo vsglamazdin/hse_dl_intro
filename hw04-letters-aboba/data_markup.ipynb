{
  "nbformat": 4,
  "nbformat_minor": 0,
  "metadata": {
    "colab": {
      "name": "data_markup.ipynb",
      "provenance": [],
      "collapsed_sections": []
    },
    "kernelspec": {
      "name": "python3",
      "display_name": "Python 3"
    },
    "language_info": {
      "name": "python"
    }
  },
  "cells": [
    {
      "cell_type": "code",
      "execution_count": null,
      "metadata": {
        "id": "g467gFOZDGuW"
      },
      "outputs": [],
      "source": [
        "from google.colab.patches import cv2_imshow\n",
        "import pandas as pd\n",
        "import numpy as np\n",
        "import os\n",
        "import cv2\n",
        "from google.colab import output"
      ]
    },
    {
      "cell_type": "code",
      "source": [
        "!unzip imgs_r_r.zip -d imgs_r"
      ],
      "metadata": {
        "id": "Iu7f76zJEAl-"
      },
      "execution_count": null,
      "outputs": []
    },
    {
      "cell_type": "code",
      "source": [
        "list_data = os.listdir(os.path.join(\"imgs_r\", \"imgs_rotated\"))\n",
        "\n",
        "def get_letters(list_data, n = 5):\n",
        "    paths = np.random.choice(list_data, size = n)\n",
        "    imgs = []\n",
        "    for path in paths:\n",
        "        imgs.append(cv2.imread(os.path.join(\"imgs_r\", \"imgs_rotated\", path), cv2.IMREAD_UNCHANGED))\n",
        "    print(paths)\n",
        "    cv2_imshow(np.concatenate(imgs,axis = 1))\n",
        "    # letters = ''\n",
        "    # letters = letters.upper()\n",
        "    letters = input().upper()\n",
        "    output.clear()\n",
        "    if len(letters) != n:\n",
        "        return None\n",
        "    return list(zip(letters, paths))"
      ],
      "metadata": {
        "id": "hKgas5HkDHVW"
      },
      "execution_count": null,
      "outputs": []
    },
    {
      "cell_type": "code",
      "source": [
        "\n",
        "last_res = None\n",
        "\n",
        "if not os.path.exists(\"val_data.csv\"):\n",
        "    res_df = pd.DataFrame(columns = [\"label\", \"path\"])\n",
        "else:\n",
        "    res_df = pd.read_csv(\"val_data.csv\")\n",
        "\n",
        "while 1:\n",
        "    \n",
        "    temp_res = get_letters(list_data, n = 3)\n",
        "    if temp_res is None:\n",
        "        break\n",
        "    if last_res is not None:\n",
        "        for i in last_res:\n",
        "            res_df.loc[res_df.shape[0]] = i\n",
        "        res_df.to_csv(\"val_data.csv\", index = None)\n",
        "    last_res = temp_res\n",
        "    "
      ],
      "metadata": {
        "id": "GBXy7WvIHiJF"
      },
      "execution_count": null,
      "outputs": []
    },
    {
      "cell_type": "code",
      "source": [
        "n = 5\n",
        "new_df = []\n",
        "for i in range(res_df.shape[0] // n):\n",
        "    temp_df = res_df.loc[i * n: (i+1) * n - 1].reset_index(drop = True)\n",
        "    imgs = []\n",
        "    for label, path in temp_df.values:\n",
        "        imgs.append(cv2.imread(os.path.join(\"imgs_r\", \"imgs_rotated\", path), cv2.IMREAD_UNCHANGED))\n",
        "    print(\"   \".join(temp_df[\"label\"].values))\n",
        "    cv2_imshow(np.concatenate(imgs,axis = 1))\n",
        "    x = input()\n",
        "    output.clear()\n",
        "    if len(x) > 0:\n",
        "        for xi in x:\n",
        "            temp_df.drop(int(xi))\n",
        "    new_df.append(temp_df)\n",
        "res_df = pd.concat(new_df).reset_index(drop = True)\n"
      ],
      "metadata": {
        "id": "CnVLKnmcF_nN"
      },
      "execution_count": null,
      "outputs": []
    },
    {
      "cell_type": "code",
      "source": [
        "res_df.to_csv(\"val_data.csv\", index = None)"
      ],
      "metadata": {
        "id": "VVHyRemmaQdV"
      },
      "execution_count": null,
      "outputs": []
    },
    {
      "cell_type": "code",
      "source": [
        "res_df.shape"
      ],
      "metadata": {
        "colab": {
          "base_uri": "https://localhost:8080/"
        },
        "id": "tBLPcDf8aUYS",
        "outputId": "15753c8a-33e5-4860-9732-9500a970fc73"
      },
      "execution_count": null,
      "outputs": [
        {
          "output_type": "execute_result",
          "data": {
            "text/plain": [
              "(300, 2)"
            ]
          },
          "metadata": {},
          "execution_count": 23
        }
      ]
    },
    {
      "cell_type": "code",
      "source": [
        ""
      ],
      "metadata": {
        "id": "Qjp90hQRX-uh"
      },
      "execution_count": null,
      "outputs": []
    }
  ]
}