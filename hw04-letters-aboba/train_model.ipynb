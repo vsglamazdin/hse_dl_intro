{
 "cells": [
  {
   "cell_type": "code",
   "execution_count": null,
   "metadata": {
    "id": "u8imYzvbjtrD"
   },
   "outputs": [],
   "source": [
    "import pandas as pd\n",
    "import numpy as np\n",
    "import os\n",
    "import torch\n",
    "import torch.nn as nn\n",
    "import torch.nn.functional as F\n",
    "from torch.utils.data import Dataset, DataLoader\n",
    "import cv2\n",
    "from sklearn.preprocessing import LabelEncoder\n",
    "from torchvision.transforms import ToTensor, Compose, Resize, Grayscale, ColorJitter, RandomAffine, Pad, Normalize, RandomAutocontrast, RandomEqualize\n",
    "from google.colab.patches import cv2_imshow\n",
    "from tqdm.notebook import tqdm, trange\n",
    "import shutil\n",
    "from copy import deepcopy\n",
    "import torchvision.models as models"
   ]
  },
  {
   "cell_type": "code",
   "execution_count": null,
   "metadata": {
    "id": "DC7mQ6NepTev"
   },
   "outputs": [],
   "source": [
    "!unzip imgs_r_r.zip -d imgs_r"
   ]
  },
  {
   "cell_type": "markdown",
   "metadata": {},
   "source": [
    "# Создание датасета"
   ]
  },
  {
   "cell_type": "code",
   "execution_count": null,
   "metadata": {
    "id": "qQ5Jsi2Pj9FV"
   },
   "outputs": [],
   "source": [
    "# Создание класса датасета\n",
    "\n",
    "from contextlib import nullcontext\n",
    "def to_letter(x):\n",
    "    return chr(ord(\"A\") + x)\n",
    "class ImagenetteDataset(Dataset):\n",
    "    def __init__(self, csv=\"examples.csv\",path = None, train=True, transform=None):\n",
    "\n",
    "        \"\"\"\n",
    "        labels_column отвечает из какой колонки будем получать лейблы классов для обучения/валидации, будем использовать `noisy_labels_0`\n",
    "\n",
    "        Так как значения лейблов -- это строки, для того, чтобы превратить их в числа, можно воспользоваться LabelEncoder\n",
    "        \"\"\"\n",
    "\n",
    "        self.transform = transform    \n",
    "        # self.train_transform = transform\n",
    "        self.train = train\n",
    "        if path is None:\n",
    "            self.path = [\"imgs_r\", \"imgs_rotated\"]\n",
    "        if train:\n",
    "            self.df = pd.read_csv(csv)\n",
    "            self.df[\"label\"] = self.df[\"label\"].map(lambda x: ord(x.upper()) - ord(\"A\"))\n",
    "        else:\n",
    "            self.df = pd.DataFrame()\n",
    "            self.df[\"path\"] = os.listdir(os.path.join(*self.path))\n",
    "            \n",
    "    def __len__(self):\n",
    "        return self.df.shape[0]\n",
    "\n",
    "    def __getitem__(self, index):\n",
    "        # load image\n",
    "        # transform image\n",
    "        # return dict with image and class label\n",
    "        if index in self.df.index:        \n",
    "            img = cv2.imread(os.path.join(*self.path, self.df.loc[index, \"path\"]))\n",
    "            # RGB_img = cv2.cvtColor(img, cv2.COLOR_BGR2GRAY)\n",
    "            RGB_img = cv2.cvtColor(img, cv2.COLOR_BGR2RGB)\n",
    "            # if self.train:\n",
    "            if self.train:\n",
    "                return {\n",
    "                    \"image\": self.transform(RGB_img),\n",
    "                    \"label\": self.df.loc[index, \"label\"]\n",
    "                    }\n",
    "            else:\n",
    "                return {\n",
    "                    \"image\": self.transform(RGB_img),\n",
    "                    \"paths\": self.df.loc[index, \"path\"]\n",
    "                    }\n"
   ]
  },
  {
   "cell_type": "code",
   "execution_count": null,
   "metadata": {
    "id": "y_oYmsZIn8-v"
   },
   "outputs": [],
   "source": [
    "image_size = 128\n",
    "\n",
    "transform = Compose([\n",
    "                    #  RandomEqualize(0.5),\n",
    "                    ToTensor(),\n",
    "                    Pad(30, fill = 1),\n",
    "                    RandomAffine(degrees = 0,\n",
    "                                 translate = (30/(75 + 60), 30/(75 + 60)),\n",
    "                                #  shear = (30),\n",
    "                                 fill = 1),\n",
    "                     \n",
    "                    Resize((image_size, image_size)),\n",
    "                    Grayscale(3),\n",
    "                    # Normalize((0.5, 0.5, 0.5), (0.2, 0.2, 0.2)),\n",
    "                     \n",
    "])\n",
    "\n",
    "\n",
    "train_ds = ImagenetteDataset(train = True, transform = transform)\n",
    "test_ds = ImagenetteDataset(train = False, transform = transform)"
   ]
  },
  {
   "cell_type": "markdown",
   "metadata": {},
   "source": [
    "## Проверка"
   ]
  },
  {
   "cell_type": "code",
   "execution_count": null,
   "metadata": {
    "id": "j06jMi5GIfkZ"
   },
   "outputs": [],
   "source": [
    "import matplotlib.pyplot as plt\n",
    "\n",
    "import torchvision.transforms.functional as Ftt\n",
    "\n",
    "plt.rcParams[\"savefig.bbox\"] = 'tight'\n",
    "\n",
    "def show(imgs, tt = True):\n",
    "    if not isinstance(imgs, list):\n",
    "        imgs = [imgs]\n",
    "    fix, axs = plt.subplots(ncols=len(imgs), squeeze=False)\n",
    "    for i, img in enumerate(imgs):\n",
    "        img = img.detach()\n",
    "        # if tt:\n",
    "        img = Ftt.to_pil_image(img)\n",
    "        axs[0, i].imshow(np.asarray(img))\n",
    "        axs[0, i].set(xticklabels=[], yticklabels=[], xticks=[], yticks=[])"
   ]
  },
  {
   "cell_type": "code",
   "execution_count": null,
   "metadata": {
    "colab": {
     "base_uri": "https://localhost:8080/",
     "height": 369
    },
    "id": "g5rSyqadKSYi",
    "outputId": "081a8cf4-af79-4b25-f2c2-e1c9c93de56d"
   },
   "outputs": [
    {
     "name": "stdout",
     "output_type": "stream",
     "text": [
      "0\n",
      "1\n",
      "2\n",
      "3\n",
      "4\n"
     ]
    },
    {
     "data": {
      "image/png": "[encoded data removed]",
      "text/plain": [
       "<Figure size 432x288 with 8 Axes>"
      ]
     },
     "metadata": {},
     "output_type": "display_data"
    },
    {
     "data": {
      "image/png": "[encoded data removed]",
      "text/plain": [
       "<Figure size 432x288 with 8 Axes>"
      ]
     },
     "metadata": {},
     "output_type": "display_data"
    },
    {
     "data": {
      "image/png": "[encoded data removed]",
      "text/plain": [
       "<Figure size 432x288 with 8 Axes>"
      ]
     },
     "metadata": {},
     "output_type": "display_data"
    },
    {
     "data": {
      "image/png": "[encoded data removed]",
      "text/plain": [
       "<Figure size 432x288 with 8 Axes>"
      ]
     },
     "metadata": {},
     "output_type": "display_data"
    },
    {
     "data": {
      "image/png": "[encoded data removed]",
      "text/plain": [
       "<Figure size 432x288 with 8 Axes>"
      ]
     },
     "metadata": {},
     "output_type": "display_data"
    }
   ],
   "source": [
    "for i in range(5):\n",
    "    print(train_ds[i][\"label\"])\n",
    "    show([train_ds[i][\"image\"] for j in range(8)])"
   ]
  },
  {
   "cell_type": "code",
   "execution_count": null,
   "metadata": {
    "colab": {
     "base_uri": "https://localhost:8080/",
     "height": 282
    },
    "id": "hoIEU8MI_rEo",
    "outputId": "9d13cac1-00f5-4155-a59b-f968c9e98b31"
   },
   "outputs": [
    {
     "data": {
      "image/png": "[encoded data removed]",
      "text/plain": [
       "<Figure size 432x288 with 8 Axes>"
      ]
     },
     "metadata": {},
     "output_type": "display_data"
    },
    {
     "data": {
      "image/png": "[encoded data removed]",
      "text/plain": [
       "<Figure size 432x288 with 8 Axes>"
      ]
     },
     "metadata": {},
     "output_type": "display_data"
    },
    {
     "data": {
      "image/png": "[encoded data removed]",
      "text/plain": [
       "<Figure size 432x288 with 8 Axes>"
      ]
     },
     "metadata": {},
     "output_type": "display_data"
    },
    {
     "data": {
      "image/png": "[encoded data removed]",
      "text/plain": [
       "<Figure size 432x288 with 8 Axes>"
      ]
     },
     "metadata": {},
     "output_type": "display_data"
    },
    {
     "data": {
      "image/png": "[encoded data removed]",
      "text/plain": [
       "<Figure size 432x288 with 8 Axes>"
      ]
     },
     "metadata": {},
     "output_type": "display_data"
    }
   ],
   "source": [
    "for i in range(5):\n",
    "    # print(train_ds[i][\"label\"])\n",
    "    show([test_ds[i][\"image\"] for j in range(8)])"
   ]
  },
  {
   "cell_type": "code",
   "execution_count": null,
   "metadata": {
    "colab": {
     "base_uri": "https://localhost:8080/"
    },
    "id": "7zFosMo2xIka",
    "outputId": "d9191caf-5990-4d5a-dea1-13003c3416ec"
   },
   "outputs": [
    {
     "data": {
      "text/plain": [
       "tensor(0.9999)"
      ]
     },
     "execution_count": 9,
     "metadata": {},
     "output_type": "execute_result"
    }
   ],
   "source": [
    "train_ds[0][\"image\"][2, :,:].max()"
   ]
  },
  {
   "cell_type": "code",
   "execution_count": null,
   "metadata": {
    "colab": {
     "base_uri": "https://localhost:8080/"
    },
    "id": "Ocb6zB6Dwly2",
    "outputId": "43531606-2e48-4147-9fcd-cb60a5d661c7"
   },
   "outputs": [
    {
     "data": {
      "text/plain": [
       "(300, 13456)"
      ]
     },
     "execution_count": 10,
     "metadata": {},
     "output_type": "execute_result"
    }
   ],
   "source": [
    "len(train_ds), len(test_ds)"
   ]
  },
  {
   "cell_type": "markdown",
   "metadata": {},
   "source": [
    " # Создание модели"
   ]
  },
  {
   "cell_type": "code",
   "execution_count": null,
   "metadata": {
    "id": "GCqS8zrNw2Nk"
   },
   "outputs": [],
   "source": [
    "import torch\n",
    "import torch.nn as nn\n",
    "import torch.nn.functional as F\n",
    "\n",
    "def activation_func(activation):\n",
    "    \"\"\"https://www.machinelearningmastery.ru/residual-network-implementing-resnet-a7da63c7b278/\"\"\"\n",
    "    return  nn.ModuleDict([\n",
    "        ['relu', nn.ReLU(inplace=True)],\n",
    "        ['leaky_relu', nn.LeakyReLU(negative_slope=0.01, inplace=True)],\n",
    "        ['selu', nn.SELU(inplace=True)],\n",
    "        ['none', nn.Identity()]\n",
    "    ])[activation]\n",
    "\n",
    "\n",
    "class VeryModel(nn.Module):\n",
    "    def __init__(self, lr_scheduler=None, lr_scheduler_type=None, activation='leaky_relu'):\n",
    "        super().__init__()\n",
    "        self.lr_scheduler = lr_scheduler\n",
    "        self.lr_scheduler_type = lr_scheduler_type\n",
    "        if lr_scheduler_type not in [None, 'per_batch', 'per_epoch']:\n",
    "            raise ValueError(\"lr_scheduler_type must be one of: None, 'per_batch', 'per_epoch'. \"\n",
    "                             f\"Not: {lr_scheduler_type}\")\n",
    "        self.inner = models.resnet18(num_classes=26) \n",
    "\n",
    "    def forward(self, x):\n",
    "        return self.inner(x)\n",
    "\n",
    "    def compute_all(self, batch):  # удобно сделать функцию, в которой вычисляется лосс по пришедшему батчу\n",
    "        x = batch['image']\n",
    "        y = batch['label']\n",
    "        logits = self.inner(x)\n",
    "\n",
    "        loss = F.cross_entropy(logits, y)\n",
    "        acc = (logits.argmax(axis=1) == y).float().mean().cpu().numpy()\n",
    "        metrics = dict(acc=acc)\n",
    "        metrics[\"preds\"] = list(logits.argmax(axis=1))\n",
    "        metrics[\"true\"] = list(y)\n",
    "        return loss, metrics\n",
    "\n",
    "    def post_train_batch(self):\n",
    "        pass\n",
    "\n",
    "    def post_val_batch(self):\n",
    "        pass\n",
    "\n",
    "    def post_train_stage(self):\n",
    "        pass\n",
    "\n",
    "    def post_val_stage(self, val_loss):\n",
    "        pass"
   ]
  },
  {
   "cell_type": "code",
   "execution_count": null,
   "metadata": {
    "id": "JBN4LBdJxHON"
   },
   "outputs": [],
   "source": [
    "class Trainer:\n",
    "    def __init__(self, model: nn.Module,\n",
    "                 optimizer,\n",
    "                 train_dataset: Dataset,\n",
    "                 val_dataset,\n",
    "                 device: str = 'cpu',\n",
    "                 tboard_log_dir: str = './tboard_logs/',\n",
    "                 batch_size: int = 128):\n",
    "        self.model = model\n",
    "        self.optimizer = optimizer\n",
    "        self.train_dataset = train_dataset\n",
    "        self.val_dataset = val_dataset\n",
    "        self.batch_size = batch_size\n",
    "        self.tboard_log_dir = tboard_log_dir\n",
    "\n",
    "        self.device = device\n",
    "        if torch.cuda.is_available():\n",
    "            self.device = torch.cuda.current_device()\n",
    "            self.model = self.model.to(self.device)\n",
    "\n",
    "        self.global_step = 0\n",
    "        # self.log_writer = SummaryWriter(log_dir=tboard_log_dir)\n",
    "\n",
    "        # сохраняем состояние оптимизатора и модели\n",
    "        self.cache = self.cache_states()\n",
    "\n",
    "    def save_checkpoint(self, path):\n",
    "        torch.save(self.model.state_dict(), path)\n",
    "\n",
    "    def train(self, num_epochs: int):\n",
    "        model = self.model\n",
    "        optimizer = self.optimizer\n",
    "\n",
    "        train_loader = DataLoader(self.train_dataset, shuffle=True, pin_memory=True, batch_size=self.batch_size)\n",
    "        # val_loader = DataLoader(self.val_dataset, shuffle=False, pin_memory=True, batch_size=self.batch_size)\n",
    "        best_loss = float('inf')\n",
    "        ddd = True\n",
    "\n",
    "        for epoch in trange(num_epochs):\n",
    "            model.train()\n",
    "            for batch in train_loader:\n",
    "                batch = {k: v.to(self.device) for k, v in batch.items()}\n",
    "                loss, details = model.compute_all(batch)\n",
    "\n",
    "                optimizer.zero_grad()\n",
    "                loss.backward()\n",
    "                optimizer.step()\n",
    "\n",
    "                model.post_train_batch()\n",
    "                # for k, v in details.items():\n",
    "                #     self.log_writer.add_scalar(k, v, global_step=self.global_step)\n",
    "                self.global_step += 1\n",
    "\n",
    "            # with torch.no_grad():\n",
    "            #     model.eval()\n",
    "            #     val_losses = []\n",
    "            #     count_steps = 0\n",
    "            #     sum_acc = 0\n",
    "            #     sum_loss = 0\n",
    "            #     self.preds = []\n",
    "            #     self.true = []\n",
    "            #     for batch in tqdm(val_loader):\n",
    "            #         batch = {k: v.to(self.device) for k, v in batch.items()}\n",
    "            #         loss, details = model.compute_all(batch)\n",
    "            #         val_losses.append(loss.item())\n",
    "            #         sum_acc += details[\"acc\"]\n",
    "            #         sum_loss += loss.item()\n",
    "            #         count_steps += 1\n",
    "            #         self.preds.extend(details[\"preds\"])\n",
    "            #         self.true.extend(details[\"true\"])\n",
    "\n",
    "\n",
    "            #     val_loss = np.mean(val_losses)\n",
    "            #     model.post_val_stage(val_loss)\n",
    "            #     self.sum_acc = sum_acc / count_steps\n",
    "            #     self.sum_loss = sum_loss / count_steps\n",
    "            #     self.log_writer.add_scalar(tag = \"val/accuracy\",\n",
    "            #                                scalar_value  = self.sum_acc,\n",
    "            #                                global_step=epoch)\n",
    "            #     self.log_writer.add_scalar(tag = \"val/loss\",\n",
    "            #                                scalar_value  = sum_loss / count_steps,\n",
    "            #                                global_step=epoch)\n",
    "            #     print(f\"data_added ({epoch})\")\n",
    "                \n",
    "\n",
    "                # if val_loss < best_loss:\n",
    "                #     self.save_checkpoint(os.path.join(self.tboard_log_dir, \"best_checkpoint.pth\"))\n",
    "                #     best_loss = val_loss\n",
    "\n",
    "    def find_lr(self, min_lr: float = 1e-8,\n",
    "                max_lr: float = 1e-1,\n",
    "                num_lrs: int = 20,\n",
    "                smooth_beta: float = 0.8) -> dict:\n",
    "        lrs = np.geomspace(start=min_lr, stop=max_lr, num=num_lrs)\n",
    "        logs = {'lr': [], 'loss': [], 'avg_loss': []}\n",
    "        avg_loss = None\n",
    "        model, optimizer = self.model, self.optimizer\n",
    "        train_loader = DataLoader(self.train_dataset, shuffle=True, batch_size=self.batch_size)\n",
    "\n",
    "        train_loader_iter = iter(train_loader)\n",
    "\n",
    "        model.train()\n",
    "        for lr in tqdm(lrs, desc='finding LR', total=num_lrs):\n",
    "\n",
    "            try:\n",
    "                batch = next(train_loader_iter)\n",
    "            except StopIteration:\n",
    "                train_loader_iter = iter(train_loader)\n",
    "                batch = next(train_loader_iter)\n",
    "            # apply new lr\n",
    "            for param_group in self.optimizer.param_groups:\n",
    "                param_group['lr'] = lr\n",
    "\n",
    "            # train step\n",
    "            batch = {k: v.to(self.device) for k, v in batch.items()}\n",
    "            loss, details = model.compute_all(batch)\n",
    "            optimizer.zero_grad()\n",
    "            loss.backward()\n",
    "            optimizer.step()\n",
    "\n",
    "            # calculate smoothed loss\n",
    "            if avg_loss is None:\n",
    "                avg_loss = loss\n",
    "            else:\n",
    "                avg_loss = smooth_beta * avg_loss + (1 - smooth_beta) * loss\n",
    "\n",
    "            # store values into logs\n",
    "            logs['lr'].append(lr)\n",
    "            logs['avg_loss'].append(avg_loss.item())\n",
    "            logs['loss'].append(loss.item())\n",
    "\n",
    "        logs.update({key: np.array(val) for key, val in logs.items()})\n",
    "        self.rollback_states()\n",
    "\n",
    "        return logs\n",
    "\n",
    "    def cache_states(self):\n",
    "        cache_dict = {'model_state': deepcopy(self.model.state_dict()),\n",
    "                      'optimizer_state': deepcopy(self.optimizer.state_dict())}\n",
    "\n",
    "        return cache_dict\n",
    "\n",
    "    def rollback_states(self):\n",
    "        self.model.load_state_dict(self.cache['model_state'])\n",
    "        self.optimizer.load_state_dict(self.cache['optimizer_state'])"
   ]
  },
  {
   "cell_type": "markdown",
   "metadata": {},
   "source": [
    "# Обучение модели и запись результатов"
   ]
  },
  {
   "cell_type": "code",
   "execution_count": null,
   "metadata": {
    "colab": {
     "base_uri": "https://localhost:8080/",
     "height": 49,
     "referenced_widgets": [
      "00eb7b4229c44a528ddd00c9038590d3",
      "cac07c8088144856927829880ebf1c2f",
      "ce992ecb356f437fab9ae20fd7599ff4",
      "d90e242240734fb49f98cf3e5cc862f2",
      "6e3d43088259460cb20344db44827418",
      "6931df53710e49ac9026d24a014e22fc",
      "72c367d0738d482faf23b9e25d09e48a",
      "806c6119371749e5af3100291b08f5ff",
      "f9f5b7cd385b4b7699714fc134bd6ae7",
      "0da253be18884a3d827839517a6206da",
      "bbd986695b904d0cb06895768f52de1b"
     ]
    },
    "id": "wJVhvXzz7d_N",
    "outputId": "8fe51a14-902e-4249-d432-67b4dacd49fb"
   },
   "outputs": [
    {
     "data": {
      "application/vnd.jupyter.widget-view+json": {
       "model_id": "00eb7b4229c44a528ddd00c9038590d3",
       "version_major": 2,
       "version_minor": 0
      },
      "text/plain": [
       "  0%|          | 0/10000 [00:00<?, ?it/s]"
      ]
     },
     "metadata": {},
     "output_type": "display_data"
    }
   ],
   "source": [
    "from torch.optim import SGD\n",
    "from torchvision import datasets, transforms as T\n",
    "import gc\n",
    "\n",
    "\n",
    "image_size = 224\n",
    "num_epochs = 10000\n",
    "\n",
    "torch.cuda.empty_cache()\n",
    "gc.collect()\n",
    "torch.manual_seed(42)\n",
    "\n",
    "scheduler = None\n",
    "lr_scheduler_type = None\n",
    "model = VeryModel()\n",
    "optimizer = SGD(model.parameters(), lr=0.01)\n",
    "\n",
    "trainer = Trainer(model,\n",
    "                optimizer,\n",
    "                ImagenetteDataset(train=True, transform=transform),\n",
    "                ImagenetteDataset(train=False, transform=transform),\n",
    "                batch_size=128,\n",
    "                device = \"gpu\",\n",
    "                tboard_log_dir = f\"best\")\n",
    "trainer.train(num_epochs = num_epochs)"
   ]
  },
  {
   "cell_type": "code",
   "execution_count": null,
   "metadata": {
    "colab": {
     "base_uri": "https://localhost:8080/",
     "height": 75
    },
    "id": "PYocdoM54I6H",
    "outputId": "b65bf992-977b-412f-bc93-6701aed33e80"
   },
   "outputs": [
    {
     "name": "stdout",
     "output_type": "stream",
     "text": [
      "   P   U   T   U   O   O   D   P   Q   F   D   W\n"
     ]
    },
    {
     "data": {
      "image/png": "[encoded data removed]",
      "text/plain": [
       "<Figure size 432x288 with 12 Axes>"
      ]
     },
     "metadata": {},
     "output_type": "display_data"
    }
   ],
   "source": [
    "trainer.model.eval()\n",
    "res = []\n",
    "dl_test = DataLoader(test_ds, shuffle=False, pin_memory=True, batch_size=12)\n",
    "for b in dl_test:\n",
    "    break\n",
    "    # get_test_paths\n",
    "logits = trainer.model(b[\"image\"].to('cuda'))\n",
    "    \n",
    "    # logits = trainer.model(b[\"image\"])\n",
    "lts = []\n",
    "for i in torch.argmax(logits, dim = 1):\n",
    "    lts.append(to_letter(i))\n",
    "    # res.extend(list(zip(lts, b[\"paths\"])))\n",
    "print(\"  \",\"   \".join(lts))\n",
    "show([b[\"image\"][i,:,:,:] for i in range(b[\"image\"].shape[0])])"
   ]
  },
  {
   "cell_type": "code",
   "execution_count": null,
   "metadata": {
    "id": "x_IBVpm68UmH"
   },
   "outputs": [],
   "source": [
    "trainer.model.eval()\n",
    "res = []\n",
    "dl_test = DataLoader(test_ds, shuffle=False, pin_memory=True, batch_size=128)\n",
    "for b in dl_test:\n",
    "    \n",
    "    # get_test_paths\n",
    "    logits = trainer.model(b[\"image\"].to('cuda'))\n",
    "    \n",
    "    # logits = trainer.model(b[\"image\"])\n",
    "    lts = []\n",
    "    for i in torch.argmax(logits, dim = 1):\n",
    "        lts.append(to_letter(i))\n",
    "    res.extend(list(zip(lts, b[\"paths\"])))\n",
    "    # print(\"  \",\"   \".join(lts))\n",
    "    # show([b[\"image\"][i,:,:,:] for i in range(b[\"image\"].shape[0])])"
   ]
  },
  {
   "cell_type": "code",
   "execution_count": null,
   "metadata": {
    "colab": {
     "base_uri": "https://localhost:8080/"
    },
    "collapsed": true,
    "id": "RB3-ciISyUVR",
    "outputId": "fdbce6e3-86bb-4b90-e307-794cc55c19a2"
   },
   "outputs": [
    {
     "data": {
      "text/plain": [
       "W    1088\n",
       "O    1069\n",
       "L    1051\n",
       "F     969\n",
       "D     892\n",
       "G     789\n",
       "V     714\n",
       "Y     708\n",
       "A     661\n",
       "U     631\n",
       "P     613\n",
       "Q     597\n",
       "J     485\n",
       "T     414\n",
       "R     385\n",
       "X     361\n",
       "I     351\n",
       "K     336\n",
       "C     330\n",
       "H     310\n",
       "S     175\n",
       "M     147\n",
       "N     140\n",
       "Z     130\n",
       "E      88\n",
       "B      22\n",
       "Name: label, dtype: int64"
      ]
     },
     "execution_count": 17,
     "metadata": {},
     "output_type": "execute_result"
    }
   ],
   "source": [
    "res_df = pd.DataFrame(res, columns = [\"label\", \"path\"])\n",
    "# res_df[\"label\"].value_counts()"
   ]
  },
  {
   "cell_type": "code",
   "execution_count": null,
   "metadata": {
    "id": "Nk281z750LoG"
   },
   "outputs": [],
   "source": [
    "res_df.to_csv(\"resss.csv\", index = False)"
   ]
  },
  {
   "cell_type": "code",
   "execution_count": null,
   "metadata": {
    "colab": {
     "base_uri": "https://localhost:8080/",
     "height": 49,
     "referenced_widgets": [
      "63745860a7594b0bbb1be320d3bc16f3",
      "b18007b13874429085f04385b56172c8",
      "ef6c5fa59ff64378b8f674a3d87c1952",
      "9f602f5503734b218f0f63e7569d91ba",
      "b191c306711549bf890fb071e3f809b6",
      "a6d3c911af6e4eca97805df8ca495d45",
      "d1876b528fd0406eafaa89a00065092d",
      "18ebc08f3b644cb4b0772715de920b1c",
      "80fce1e4d8f54437b622afb3339c1ba3",
      "ae9ac92d20f24c81b31a7dcffb4d48d3",
      "a4e0c1f6f84a4f4fb0cfe22dbffdb760"
     ]
    },
    "id": "eRfhidSDA0Sl",
    "outputId": "4701a322-1a65-4dcd-da11-4630b918d9d1"
   },
   "outputs": [
    {
     "data": {
      "application/vnd.jupyter.widget-view+json": {
       "model_id": "63745860a7594b0bbb1be320d3bc16f3",
       "version_major": 2,
       "version_minor": 0
      },
      "text/plain": [
       "  0%|          | 0/26 [00:00<?, ?it/s]"
      ]
     },
     "metadata": {},
     "output_type": "display_data"
    }
   ],
   "source": [
    "f_name = \"data\"\n",
    "if not os.path.exists(f_name):\n",
    "    os.mkdir(f_name)\n",
    "\n",
    "for i in tqdm(res_df[\"label\"].unique()):\n",
    "    if not os.path.exists(os.path.join(f_name, i)):\n",
    "        os.mkdir(os.path.join(f_name, i))\n",
    "    for path in res_df[res_df[\"label\"] == i][\"path\"]:\n",
    "        shutil.copyfile(os.path.join(\"imgs_r\", \"imgs_rotated\", path), os.path.join(f_name, i, path))"
   ]
  },
  {
   "cell_type": "code",
   "execution_count": null,
   "metadata": {
    "id": "_B6RuXvG0_-g"
   },
   "outputs": [],
   "source": [
    "!zip -r data.zip data"
   ]
  },
  {
   "cell_type": "code",
   "execution_count": null,
   "metadata": {
    "id": "zRcbr8QWBru2"
   },
   "outputs": [],
   "source": []
  }
 ],
 "metadata": {
  "accelerator": "GPU",
  "colab": {
   "collapsed_sections": [],
   "name": "train_model.ipynb",
   "provenance": []
  },
  "kernelspec": {
   "display_name": "Python 3",
   "language": "python",
   "name": "python3"
  },
  "language_info": {
   "codemirror_mode": {
    "name": "ipython",
    "version": 3
   },
   "file_extension": ".py",
   "mimetype": "text/x-python",
   "name": "python",
   "nbconvert_exporter": "python",
   "pygments_lexer": "ipython3",
   "version": "3.8.8"
  },
  "widgets": {
   "application/vnd.jupyter.widget-state+json": {
    "00eb7b4229c44a528ddd00c9038590d3": {
     "model_module": "@jupyter-widgets/controls",
     "model_module_version": "1.5.0",
     "model_name": "HBoxModel",
     "state": {
      "_dom_classes": [],
      "_model_module": "@jupyter-widgets/controls",
      "_model_module_version": "1.5.0",
      "_model_name": "HBoxModel",
      "_view_count": null,
      "_view_module": "@jupyter-widgets/controls",
      "_view_module_version": "1.5.0",
      "_view_name": "HBoxView",
      "box_style": "",
      "children": [
       "IPY_MODEL_cac07c8088144856927829880ebf1c2f",
       "IPY_MODEL_ce992ecb356f437fab9ae20fd7599ff4",
       "IPY_MODEL_d90e242240734fb49f98cf3e5cc862f2"
      ],
      "layout": "IPY_MODEL_6e3d43088259460cb20344db44827418"
     }
    },
    "0da253be18884a3d827839517a6206da": {
     "model_module": "@jupyter-widgets/base",
     "model_module_version": "1.2.0",
     "model_name": "LayoutModel",
     "state": {
      "_model_module": "@jupyter-widgets/base",
      "_model_module_version": "1.2.0",
      "_model_name": "LayoutModel",
      "_view_count": null,
      "_view_module": "@jupyter-widgets/base",
      "_view_module_version": "1.2.0",
      "_view_name": "LayoutView",
      "align_content": null,
      "align_items": null,
      "align_self": null,
      "border": null,
      "bottom": null,
      "display": null,
      "flex": null,
      "flex_flow": null,
      "grid_area": null,
      "grid_auto_columns": null,
      "grid_auto_flow": null,
      "grid_auto_rows": null,
      "grid_column": null,
      "grid_gap": null,
      "grid_row": null,
      "grid_template_areas": null,
      "grid_template_columns": null,
      "grid_template_rows": null,
      "height": null,
      "justify_content": null,
      "justify_items": null,
      "left": null,
      "margin": null,
      "max_height": null,
      "max_width": null,
      "min_height": null,
      "min_width": null,
      "object_fit": null,
      "object_position": null,
      "order": null,
      "overflow": null,
      "overflow_x": null,
      "overflow_y": null,
      "padding": null,
      "right": null,
      "top": null,
      "visibility": null,
      "width": null
     }
    },
    "18ebc08f3b644cb4b0772715de920b1c": {
     "model_module": "@jupyter-widgets/base",
     "model_module_version": "1.2.0",
     "model_name": "LayoutModel",
     "state": {
      "_model_module": "@jupyter-widgets/base",
      "_model_module_version": "1.2.0",
      "_model_name": "LayoutModel",
      "_view_count": null,
      "_view_module": "@jupyter-widgets/base",
      "_view_module_version": "1.2.0",
      "_view_name": "LayoutView",
      "align_content": null,
      "align_items": null,
      "align_self": null,
      "border": null,
      "bottom": null,
      "display": null,
      "flex": null,
      "flex_flow": null,
      "grid_area": null,
      "grid_auto_columns": null,
      "grid_auto_flow": null,
      "grid_auto_rows": null,
      "grid_column": null,
      "grid_gap": null,
      "grid_row": null,
      "grid_template_areas": null,
      "grid_template_columns": null,
      "grid_template_rows": null,
      "height": null,
      "justify_content": null,
      "justify_items": null,
      "left": null,
      "margin": null,
      "max_height": null,
      "max_width": null,
      "min_height": null,
      "min_width": null,
      "object_fit": null,
      "object_position": null,
      "order": null,
      "overflow": null,
      "overflow_x": null,
      "overflow_y": null,
      "padding": null,
      "right": null,
      "top": null,
      "visibility": null,
      "width": null
     }
    },
    "63745860a7594b0bbb1be320d3bc16f3": {
     "model_module": "@jupyter-widgets/controls",
     "model_module_version": "1.5.0",
     "model_name": "HBoxModel",
     "state": {
      "_dom_classes": [],
      "_model_module": "@jupyter-widgets/controls",
      "_model_module_version": "1.5.0",
      "_model_name": "HBoxModel",
      "_view_count": null,
      "_view_module": "@jupyter-widgets/controls",
      "_view_module_version": "1.5.0",
      "_view_name": "HBoxView",
      "box_style": "",
      "children": [
       "IPY_MODEL_b18007b13874429085f04385b56172c8",
       "IPY_MODEL_ef6c5fa59ff64378b8f674a3d87c1952",
       "IPY_MODEL_9f602f5503734b218f0f63e7569d91ba"
      ],
      "layout": "IPY_MODEL_b191c306711549bf890fb071e3f809b6"
     }
    },
    "6931df53710e49ac9026d24a014e22fc": {
     "model_module": "@jupyter-widgets/base",
     "model_module_version": "1.2.0",
     "model_name": "LayoutModel",
     "state": {
      "_model_module": "@jupyter-widgets/base",
      "_model_module_version": "1.2.0",
      "_model_name": "LayoutModel",
      "_view_count": null,
      "_view_module": "@jupyter-widgets/base",
      "_view_module_version": "1.2.0",
      "_view_name": "LayoutView",
      "align_content": null,
      "align_items": null,
      "align_self": null,
      "border": null,
      "bottom": null,
      "display": null,
      "flex": null,
      "flex_flow": null,
      "grid_area": null,
      "grid_auto_columns": null,
      "grid_auto_flow": null,
      "grid_auto_rows": null,
      "grid_column": null,
      "grid_gap": null,
      "grid_row": null,
      "grid_template_areas": null,
      "grid_template_columns": null,
      "grid_template_rows": null,
      "height": null,
      "justify_content": null,
      "justify_items": null,
      "left": null,
      "margin": null,
      "max_height": null,
      "max_width": null,
      "min_height": null,
      "min_width": null,
      "object_fit": null,
      "object_position": null,
      "order": null,
      "overflow": null,
      "overflow_x": null,
      "overflow_y": null,
      "padding": null,
      "right": null,
      "top": null,
      "visibility": null,
      "width": null
     }
    },
    "6e3d43088259460cb20344db44827418": {
     "model_module": "@jupyter-widgets/base",
     "model_module_version": "1.2.0",
     "model_name": "LayoutModel",
     "state": {
      "_model_module": "@jupyter-widgets/base",
      "_model_module_version": "1.2.0",
      "_model_name": "LayoutModel",
      "_view_count": null,
      "_view_module": "@jupyter-widgets/base",
      "_view_module_version": "1.2.0",
      "_view_name": "LayoutView",
      "align_content": null,
      "align_items": null,
      "align_self": null,
      "border": null,
      "bottom": null,
      "display": null,
      "flex": null,
      "flex_flow": null,
      "grid_area": null,
      "grid_auto_columns": null,
      "grid_auto_flow": null,
      "grid_auto_rows": null,
      "grid_column": null,
      "grid_gap": null,
      "grid_row": null,
      "grid_template_areas": null,
      "grid_template_columns": null,
      "grid_template_rows": null,
      "height": null,
      "justify_content": null,
      "justify_items": null,
      "left": null,
      "margin": null,
      "max_height": null,
      "max_width": null,
      "min_height": null,
      "min_width": null,
      "object_fit": null,
      "object_position": null,
      "order": null,
      "overflow": null,
      "overflow_x": null,
      "overflow_y": null,
      "padding": null,
      "right": null,
      "top": null,
      "visibility": null,
      "width": null
     }
    },
    "72c367d0738d482faf23b9e25d09e48a": {
     "model_module": "@jupyter-widgets/controls",
     "model_module_version": "1.5.0",
     "model_name": "DescriptionStyleModel",
     "state": {
      "_model_module": "@jupyter-widgets/controls",
      "_model_module_version": "1.5.0",
      "_model_name": "DescriptionStyleModel",
      "_view_count": null,
      "_view_module": "@jupyter-widgets/base",
      "_view_module_version": "1.2.0",
      "_view_name": "StyleView",
      "description_width": ""
     }
    },
    "806c6119371749e5af3100291b08f5ff": {
     "model_module": "@jupyter-widgets/base",
     "model_module_version": "1.2.0",
     "model_name": "LayoutModel",
     "state": {
      "_model_module": "@jupyter-widgets/base",
      "_model_module_version": "1.2.0",
      "_model_name": "LayoutModel",
      "_view_count": null,
      "_view_module": "@jupyter-widgets/base",
      "_view_module_version": "1.2.0",
      "_view_name": "LayoutView",
      "align_content": null,
      "align_items": null,
      "align_self": null,
      "border": null,
      "bottom": null,
      "display": null,
      "flex": null,
      "flex_flow": null,
      "grid_area": null,
      "grid_auto_columns": null,
      "grid_auto_flow": null,
      "grid_auto_rows": null,
      "grid_column": null,
      "grid_gap": null,
      "grid_row": null,
      "grid_template_areas": null,
      "grid_template_columns": null,
      "grid_template_rows": null,
      "height": null,
      "justify_content": null,
      "justify_items": null,
      "left": null,
      "margin": null,
      "max_height": null,
      "max_width": null,
      "min_height": null,
      "min_width": null,
      "object_fit": null,
      "object_position": null,
      "order": null,
      "overflow": null,
      "overflow_x": null,
      "overflow_y": null,
      "padding": null,
      "right": null,
      "top": null,
      "visibility": null,
      "width": null
     }
    },
    "80fce1e4d8f54437b622afb3339c1ba3": {
     "model_module": "@jupyter-widgets/controls",
     "model_module_version": "1.5.0",
     "model_name": "ProgressStyleModel",
     "state": {
      "_model_module": "@jupyter-widgets/controls",
      "_model_module_version": "1.5.0",
      "_model_name": "ProgressStyleModel",
      "_view_count": null,
      "_view_module": "@jupyter-widgets/base",
      "_view_module_version": "1.2.0",
      "_view_name": "StyleView",
      "bar_color": null,
      "description_width": ""
     }
    },
    "9f602f5503734b218f0f63e7569d91ba": {
     "model_module": "@jupyter-widgets/controls",
     "model_module_version": "1.5.0",
     "model_name": "HTMLModel",
     "state": {
      "_dom_classes": [],
      "_model_module": "@jupyter-widgets/controls",
      "_model_module_version": "1.5.0",
      "_model_name": "HTMLModel",
      "_view_count": null,
      "_view_module": "@jupyter-widgets/controls",
      "_view_module_version": "1.5.0",
      "_view_name": "HTMLView",
      "description": "",
      "description_tooltip": null,
      "layout": "IPY_MODEL_ae9ac92d20f24c81b31a7dcffb4d48d3",
      "placeholder": "​",
      "style": "IPY_MODEL_a4e0c1f6f84a4f4fb0cfe22dbffdb760",
      "value": " 26/26 [00:01&lt;00:00, 28.96it/s]"
     }
    },
    "a4e0c1f6f84a4f4fb0cfe22dbffdb760": {
     "model_module": "@jupyter-widgets/controls",
     "model_module_version": "1.5.0",
     "model_name": "DescriptionStyleModel",
     "state": {
      "_model_module": "@jupyter-widgets/controls",
      "_model_module_version": "1.5.0",
      "_model_name": "DescriptionStyleModel",
      "_view_count": null,
      "_view_module": "@jupyter-widgets/base",
      "_view_module_version": "1.2.0",
      "_view_name": "StyleView",
      "description_width": ""
     }
    },
    "a6d3c911af6e4eca97805df8ca495d45": {
     "model_module": "@jupyter-widgets/base",
     "model_module_version": "1.2.0",
     "model_name": "LayoutModel",
     "state": {
      "_model_module": "@jupyter-widgets/base",
      "_model_module_version": "1.2.0",
      "_model_name": "LayoutModel",
      "_view_count": null,
      "_view_module": "@jupyter-widgets/base",
      "_view_module_version": "1.2.0",
      "_view_name": "LayoutView",
      "align_content": null,
      "align_items": null,
      "align_self": null,
      "border": null,
      "bottom": null,
      "display": null,
      "flex": null,
      "flex_flow": null,
      "grid_area": null,
      "grid_auto_columns": null,
      "grid_auto_flow": null,
      "grid_auto_rows": null,
      "grid_column": null,
      "grid_gap": null,
      "grid_row": null,
      "grid_template_areas": null,
      "grid_template_columns": null,
      "grid_template_rows": null,
      "height": null,
      "justify_content": null,
      "justify_items": null,
      "left": null,
      "margin": null,
      "max_height": null,
      "max_width": null,
      "min_height": null,
      "min_width": null,
      "object_fit": null,
      "object_position": null,
      "order": null,
      "overflow": null,
      "overflow_x": null,
      "overflow_y": null,
      "padding": null,
      "right": null,
      "top": null,
      "visibility": null,
      "width": null
     }
    },
    "ae9ac92d20f24c81b31a7dcffb4d48d3": {
     "model_module": "@jupyter-widgets/base",
     "model_module_version": "1.2.0",
     "model_name": "LayoutModel",
     "state": {
      "_model_module": "@jupyter-widgets/base",
      "_model_module_version": "1.2.0",
      "_model_name": "LayoutModel",
      "_view_count": null,
      "_view_module": "@jupyter-widgets/base",
      "_view_module_version": "1.2.0",
      "_view_name": "LayoutView",
      "align_content": null,
      "align_items": null,
      "align_self": null,
      "border": null,
      "bottom": null,
      "display": null,
      "flex": null,
      "flex_flow": null,
      "grid_area": null,
      "grid_auto_columns": null,
      "grid_auto_flow": null,
      "grid_auto_rows": null,
      "grid_column": null,
      "grid_gap": null,
      "grid_row": null,
      "grid_template_areas": null,
      "grid_template_columns": null,
      "grid_template_rows": null,
      "height": null,
      "justify_content": null,
      "justify_items": null,
      "left": null,
      "margin": null,
      "max_height": null,
      "max_width": null,
      "min_height": null,
      "min_width": null,
      "object_fit": null,
      "object_position": null,
      "order": null,
      "overflow": null,
      "overflow_x": null,
      "overflow_y": null,
      "padding": null,
      "right": null,
      "top": null,
      "visibility": null,
      "width": null
     }
    },
    "b18007b13874429085f04385b56172c8": {
     "model_module": "@jupyter-widgets/controls",
     "model_module_version": "1.5.0",
     "model_name": "HTMLModel",
     "state": {
      "_dom_classes": [],
      "_model_module": "@jupyter-widgets/controls",
      "_model_module_version": "1.5.0",
      "_model_name": "HTMLModel",
      "_view_count": null,
      "_view_module": "@jupyter-widgets/controls",
      "_view_module_version": "1.5.0",
      "_view_name": "HTMLView",
      "description": "",
      "description_tooltip": null,
      "layout": "IPY_MODEL_a6d3c911af6e4eca97805df8ca495d45",
      "placeholder": "​",
      "style": "IPY_MODEL_d1876b528fd0406eafaa89a00065092d",
      "value": "100%"
     }
    },
    "b191c306711549bf890fb071e3f809b6": {
     "model_module": "@jupyter-widgets/base",
     "model_module_version": "1.2.0",
     "model_name": "LayoutModel",
     "state": {
      "_model_module": "@jupyter-widgets/base",
      "_model_module_version": "1.2.0",
      "_model_name": "LayoutModel",
      "_view_count": null,
      "_view_module": "@jupyter-widgets/base",
      "_view_module_version": "1.2.0",
      "_view_name": "LayoutView",
      "align_content": null,
      "align_items": null,
      "align_self": null,
      "border": null,
      "bottom": null,
      "display": null,
      "flex": null,
      "flex_flow": null,
      "grid_area": null,
      "grid_auto_columns": null,
      "grid_auto_flow": null,
      "grid_auto_rows": null,
      "grid_column": null,
      "grid_gap": null,
      "grid_row": null,
      "grid_template_areas": null,
      "grid_template_columns": null,
      "grid_template_rows": null,
      "height": null,
      "justify_content": null,
      "justify_items": null,
      "left": null,
      "margin": null,
      "max_height": null,
      "max_width": null,
      "min_height": null,
      "min_width": null,
      "object_fit": null,
      "object_position": null,
      "order": null,
      "overflow": null,
      "overflow_x": null,
      "overflow_y": null,
      "padding": null,
      "right": null,
      "top": null,
      "visibility": null,
      "width": null
     }
    },
    "bbd986695b904d0cb06895768f52de1b": {
     "model_module": "@jupyter-widgets/controls",
     "model_module_version": "1.5.0",
     "model_name": "DescriptionStyleModel",
     "state": {
      "_model_module": "@jupyter-widgets/controls",
      "_model_module_version": "1.5.0",
      "_model_name": "DescriptionStyleModel",
      "_view_count": null,
      "_view_module": "@jupyter-widgets/base",
      "_view_module_version": "1.2.0",
      "_view_name": "StyleView",
      "description_width": ""
     }
    },
    "cac07c8088144856927829880ebf1c2f": {
     "model_module": "@jupyter-widgets/controls",
     "model_module_version": "1.5.0",
     "model_name": "HTMLModel",
     "state": {
      "_dom_classes": [],
      "_model_module": "@jupyter-widgets/controls",
      "_model_module_version": "1.5.0",
      "_model_name": "HTMLModel",
      "_view_count": null,
      "_view_module": "@jupyter-widgets/controls",
      "_view_module_version": "1.5.0",
      "_view_name": "HTMLView",
      "description": "",
      "description_tooltip": null,
      "layout": "IPY_MODEL_6931df53710e49ac9026d24a014e22fc",
      "placeholder": "​",
      "style": "IPY_MODEL_72c367d0738d482faf23b9e25d09e48a",
      "value": "100%"
     }
    },
    "ce992ecb356f437fab9ae20fd7599ff4": {
     "model_module": "@jupyter-widgets/controls",
     "model_module_version": "1.5.0",
     "model_name": "FloatProgressModel",
     "state": {
      "_dom_classes": [],
      "_model_module": "@jupyter-widgets/controls",
      "_model_module_version": "1.5.0",
      "_model_name": "FloatProgressModel",
      "_view_count": null,
      "_view_module": "@jupyter-widgets/controls",
      "_view_module_version": "1.5.0",
      "_view_name": "ProgressView",
      "bar_style": "success",
      "description": "",
      "description_tooltip": null,
      "layout": "IPY_MODEL_806c6119371749e5af3100291b08f5ff",
      "max": 10000,
      "min": 0,
      "orientation": "horizontal",
      "style": "IPY_MODEL_f9f5b7cd385b4b7699714fc134bd6ae7",
      "value": 10000
     }
    },
    "d1876b528fd0406eafaa89a00065092d": {
     "model_module": "@jupyter-widgets/controls",
     "model_module_version": "1.5.0",
     "model_name": "DescriptionStyleModel",
     "state": {
      "_model_module": "@jupyter-widgets/controls",
      "_model_module_version": "1.5.0",
      "_model_name": "DescriptionStyleModel",
      "_view_count": null,
      "_view_module": "@jupyter-widgets/base",
      "_view_module_version": "1.2.0",
      "_view_name": "StyleView",
      "description_width": ""
     }
    },
    "d90e242240734fb49f98cf3e5cc862f2": {
     "model_module": "@jupyter-widgets/controls",
     "model_module_version": "1.5.0",
     "model_name": "HTMLModel",
     "state": {
      "_dom_classes": [],
      "_model_module": "@jupyter-widgets/controls",
      "_model_module_version": "1.5.0",
      "_model_name": "HTMLModel",
      "_view_count": null,
      "_view_module": "@jupyter-widgets/controls",
      "_view_module_version": "1.5.0",
      "_view_name": "HTMLView",
      "description": "",
      "description_tooltip": null,
      "layout": "IPY_MODEL_0da253be18884a3d827839517a6206da",
      "placeholder": "​",
      "style": "IPY_MODEL_bbd986695b904d0cb06895768f52de1b",
      "value": " 10000/10000 [2:12:13&lt;00:00,  1.28it/s]"
     }
    },
    "ef6c5fa59ff64378b8f674a3d87c1952": {
     "model_module": "@jupyter-widgets/controls",
     "model_module_version": "1.5.0",
     "model_name": "FloatProgressModel",
     "state": {
      "_dom_classes": [],
      "_model_module": "@jupyter-widgets/controls",
      "_model_module_version": "1.5.0",
      "_model_name": "FloatProgressModel",
      "_view_count": null,
      "_view_module": "@jupyter-widgets/controls",
      "_view_module_version": "1.5.0",
      "_view_name": "ProgressView",
      "bar_style": "success",
      "description": "",
      "description_tooltip": null,
      "layout": "IPY_MODEL_18ebc08f3b644cb4b0772715de920b1c",
      "max": 26,
      "min": 0,
      "orientation": "horizontal",
      "style": "IPY_MODEL_80fce1e4d8f54437b622afb3339c1ba3",
      "value": 26
     }
    },
    "f9f5b7cd385b4b7699714fc134bd6ae7": {
     "model_module": "@jupyter-widgets/controls",
     "model_module_version": "1.5.0",
     "model_name": "ProgressStyleModel",
     "state": {
      "_model_module": "@jupyter-widgets/controls",
      "_model_module_version": "1.5.0",
      "_model_name": "ProgressStyleModel",
      "_view_count": null,
      "_view_module": "@jupyter-widgets/base",
      "_view_module_version": "1.2.0",
      "_view_name": "StyleView",
      "bar_color": null,
      "description_width": ""
     }
    }
   }
  }
 },
 "nbformat": 4,
 "nbformat_minor": 1
}
